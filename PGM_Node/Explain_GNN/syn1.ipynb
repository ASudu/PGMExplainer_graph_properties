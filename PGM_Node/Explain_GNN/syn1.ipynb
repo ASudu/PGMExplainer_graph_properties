{
 "cells": [
  {
   "cell_type": "code",
   "execution_count": 1,
   "metadata": {},
   "outputs": [
    {
     "name": "stderr",
     "output_type": "stream",
     "text": [
      "d:\\D_Drive\\Github\\Thesis\\PGMExplainer_graph_properties\\.venv\\lib\\site-packages\\tqdm\\auto.py:21: TqdmWarning: IProgress not found. Please update jupyter and ipywidgets. See https://ipywidgets.readthedocs.io/en/stable/user_install.html\n",
      "  from .autonotebook import tqdm as notebook_tqdm\n"
     ]
    }
   ],
   "source": [
    "import utils\n",
    "import models\n",
    "import numpy as np\n",
    "import torch\n",
    "import configs\n",
    "import pgm_explainer as pe\n",
    "from scipy.special import softmax\n",
    "import pandas as pd\n",
    "from pgmpy.estimators.CITests import chi_square\n",
    "from pgmpy.estimators import HillClimbSearch, BicScore\n",
    "from pgmpy.models import BayesianModel\n",
    "from pgmpy.inference import VariableElimination\n",
    "\n",
    "import argparse\n",
    "    \n",
    "def arg_parse():\n",
    "    parser = argparse.ArgumentParser(description=\"Explainer arguments.\")\n",
    "\n",
    "    parser.add_argument(\n",
    "            \"--bmname\", dest=\"bmname\", help=\"Name of the benchmark dataset\"\n",
    "        )\n",
    "    parser.add_argument(\"--dataset\", dest=\"dataset\", help=\"Input dataset.\")\n",
    "    parser.add_argument(\"--ckptdir\", dest=\"ckptdir\", help=\"Model checkpoint directory\")\n",
    "    parser.add_argument(\n",
    "            \"--gpu\",\n",
    "            dest=\"gpu\",\n",
    "            action=\"store_const\",\n",
    "            const=True,\n",
    "            default=False,\n",
    "            help=\"whether to use GPU.\",\n",
    "        )\n",
    "    parser.add_argument(\n",
    "            \"--node-start\", dest=\"node_start\", type=int, help=\"Index of starting node.\"\n",
    "        )\n",
    "    parser.add_argument(\n",
    "            \"--node-end\", dest=\"node_end\", type=int, help=\"Index of ending node.\"\n",
    "        )\n",
    "    parser.add_argument(\n",
    "            \"--num-perturb-samples\", dest=\"num_perturb_samples\", type=int, help=\"Number of perturbed sample using to generate explanations.\"\n",
    "        )\n",
    "    parser.add_argument(\n",
    "            \"--top-node\", dest=\"top_node\", type=int, help=\"Number of nodes in explanation.\"\n",
    "        )\n",
    "    parser.add_argument(\n",
    "            \"--epochs\", dest=\"num_epochs\", type=int, help=\"Number of epochs to train.\"\n",
    "        )\n",
    "    parser.add_argument(\n",
    "            \"--hidden-dim\", dest=\"hidden_dim\", type=int, help=\"Hidden dimension\"\n",
    "        )\n",
    "    parser.add_argument(\n",
    "            \"--output-dim\", dest=\"output_dim\", type=int, help=\"Output dimension\"\n",
    "        )\n",
    "    parser.add_argument(\n",
    "            \"--num-gc-layers\",\n",
    "            dest=\"num_gc_layers\",\n",
    "            type=int,\n",
    "            help=\"Number of graph convolution layers before each pooling\",\n",
    "        )\n",
    "    parser.add_argument(\n",
    "            \"--bn\",\n",
    "            dest=\"bn\",\n",
    "            action=\"store_const\",\n",
    "            const=True,\n",
    "            default=False,\n",
    "            help=\"Whether batch normalization is used\",\n",
    "        )\n",
    "    parser.add_argument(\"--dropout\", dest=\"dropout\", type=float, help=\"Dropout rate.\")\n",
    "    parser.add_argument(\n",
    "            \"--method\", dest=\"method\", type=str, help=\"Method. Possible values: base, att.\"\n",
    "        )\n",
    "    parser.add_argument(\n",
    "            \"--nobias\",\n",
    "            dest=\"bias\",\n",
    "            action=\"store_const\",\n",
    "            const=False,\n",
    "            default=True,\n",
    "            help=\"Whether to add bias. Default to True.\",\n",
    "        )\n",
    "    \n",
    "        # Explainer\n",
    "   \n",
    "    \n",
    "\n",
    "    parser.set_defaults(\n",
    "            ckptdir=None,\n",
    "            dataset=\"syn1\",\n",
    "            opt=\"adam\",  \n",
    "            opt_scheduler=\"none\",\n",
    "            lr=0.1,\n",
    "            clip=2.0,\n",
    "            batch_size=20,\n",
    "            num_epochs=100,\n",
    "            hidden_dim=20,\n",
    "            output_dim=20,\n",
    "            num_gc_layers=3,\n",
    "            method=\"base\",\n",
    "            dropout=0.0,\n",
    "            node_start = None,\n",
    "            node_end = None,\n",
    "            num_perturb_samples = 100,\n",
    "            top_node = None\n",
    "        )\n",
    "    \n",
    "    return parser"
   ]
  },
  {
   "cell_type": "code",
   "execution_count": 2,
   "metadata": {},
   "outputs": [],
   "source": [
    "prog_args = arg_parse()\n",
    "args= prog_args.parse_args(['--dataset','syn1','--num-perturb-samples', '900','--top-node', '3'])"
   ]
  },
  {
   "cell_type": "code",
   "execution_count": 3,
   "metadata": {},
   "outputs": [
    {
     "name": "stdout",
     "output_type": "stream",
     "text": [
      "A type:  <class 'numpy.ndarray'>\n",
      "loading model\n",
      "../Train_GNN_model/ckpt\\syn1.pth.tar\n",
      "=> loading checkpoint '../Train_GNN_model/ckpt\\syn1.pth.tar'\n",
      "input dim:  10 ; num classes:  4\n"
     ]
    }
   ],
   "source": [
    "# Load model\n",
    "A, X = utils.load_XA(args.dataset, datadir = \"../Generate_XA_Data/XAL\")\n",
    "L = utils.load_labels(args.dataset, datadir = \"../Generate_XA_Data/XAL\")\n",
    "print(\"A type: \", type(A))\n",
    "num_classes = max(L) + 1\n",
    "input_dim = X.shape[1]\n",
    "num_nodes = X.shape[0]\n",
    "ckpt = utils.load_ckpt(args)\n",
    "\n",
    "print(\"input dim: \", input_dim, \"; num classes: \", num_classes)\n",
    "    \n",
    "model = models.GcnEncoderNode(\n",
    "        input_dim=input_dim,\n",
    "        hidden_dim=args.hidden_dim,\n",
    "        embedding_dim=args.output_dim,\n",
    "        label_dim=num_classes,\n",
    "        num_layers=args.num_gc_layers,\n",
    "        bn=args.bn,\n",
    "        args=args,\n",
    "        )\n",
    "model.load_state_dict(ckpt[\"model_state\"]) \n",
    "pred = ckpt[\"save_data\"][\"pred\"]"
   ]
  },
  {
   "cell_type": "code",
   "execution_count": 4,
   "metadata": {},
   "outputs": [],
   "source": [
    "import random\n",
    "random.seed(21)"
   ]
  },
  {
   "cell_type": "code",
   "execution_count": 5,
   "metadata": {},
   "outputs": [],
   "source": [
    "# Range of node to explain in this dataset is from 300 to 700\n",
    "nodes_to_explain = list(range(400,700,5)) "
   ]
  },
  {
   "cell_type": "code",
   "execution_count": 6,
   "metadata": {},
   "outputs": [
    {
     "name": "stdout",
     "output_type": "stream",
     "text": [
      "Explainer settings\n",
      "\\ A dim:  (700, 700)\n",
      "\\ X dim:  (700, 10)\n",
      "\\ Number of layers:  3\n",
      "\\ Perturbation mode:  0\n",
      "\\ Print result:  1\n"
     ]
    }
   ],
   "source": [
    "# Construct the explainer\n",
    "explainer = pe.Node_Explainer(model, A, X, pred, 3)"
   ]
  },
  {
   "cell_type": "code",
   "execution_count": 7,
   "metadata": {},
   "outputs": [],
   "source": [
    "import networkx as nx\n",
    "import pylab as plt\n",
    "\n",
    "def pgm_draw_nx(pgm_explanation):\n",
    "    print(\"Draw pgm explaination using networkx\")\n",
    "    nx.draw(pgm_explanation, with_labels=True)\n",
    "    plt.show()\n",
    "\n",
    "def PGM_construct(pgm_explanation, target_name):\n",
    "    loc = [(0, 0), (-5, -5), (5, -5), (5, 5), (-5,5)]\n",
    "    pos = dict(zip(pgm_explanation.nodes(), loc))\n",
    "    color_dict = dict(zip(range(pred.shape[2]), ['y','b','m','r']))\n",
    "    color = [color_dict[ np.argmax(pred[0,int(node),:])] for node in pgm_explanation.nodes()]\n",
    "    name_dict = [r'$A$',r'$B$',r'$C$',r'$D$',r'$E$']\n",
    "    name = dict(zip(pgm_explanation.nodes(), name_dict))\n",
    "\n",
    "    # gt_graph = nx.Graph()\n",
    "    # gt_graph.add_nodes_from(pos.keys(), size=50)\n",
    "    # edges_list = [('300', '301'),('301', '302'),('302', '300'),('303', '300'),('304', '300')]\n",
    "    # gt_graph.add_edges_from(edges_list)\n",
    "\n",
    "    # print(\"Ground truth explaination of node \", name[target_name])\n",
    "    # figure1, ax1 = plt.subplots(figsize = (4,4))\n",
    "    # ax1.axis('off')\n",
    "    # nx.draw_networkx_nodes(gt_graph,pos,node_size=400,node_color= color)\n",
    "    # nx.draw_networkx_edges(gt_graph,pos,\n",
    "    #                     edgelist= edges_list,\n",
    "    #                     width=2.0,alpha=1)\n",
    "    # nx.draw_networkx_labels(gt_graph,pos,name,font_size=18, font_family = 'serif', font_weight = 'normal',\n",
    "    #                         font_color = 'w')\n",
    "\n",
    "    # # filename = 'view/motif_' + str(explained_node)+ '.jpg' \n",
    "    # # figure1.savefig(filename, dpi=90, bbox_inches='tight')\n",
    "\n",
    "    print(\"PGM explaination of node \", name[target_name])\n",
    "\n",
    "    figure2, ax = plt.subplots(figsize = (4,4))\n",
    "    ax.axis('off')\n",
    "    nx.draw_networkx_nodes(pgm_explanation,pos,node_size=400,node_color= color)\n",
    "    nx.draw_networkx_edges(pgm_explanation,pos,\n",
    "                        edgelist= pgm_explanation.edges,\n",
    "                        connectionstyle='arc3, rad = 0.2',\n",
    "                        width=2.0,alpha=0.8)\n",
    "    nx.draw_networkx_labels(pgm_explanation,pos,name,font_size=18, font_family = 'serif', font_color = 'w')\n",
    "    figure2.show()\n",
    "\n",
    "    # filename = 'view/pgm_' + str(explained_node)+ '.jpg' \n",
    "    # figure2.savefig(filename, dpi=90, bbox_inches='tight')\n",
    "\n"
   ]
  },
  {
   "cell_type": "code",
   "execution_count": 8,
   "metadata": {},
   "outputs": [
    {
     "name": "stdout",
     "output_type": "stream",
     "text": [
      "--------------------------- Node 400 ---------------------------\n",
      "Explaining node: 400\n"
     ]
    },
    {
     "name": "stderr",
     "output_type": "stream",
     "text": [
      "d:\\D_Drive\\Github\\Thesis\\PGMExplainer_graph_properties\\PGM_Node\\Explain_GNN\\pgm_explainer.py:120: UserWarning: Creating a tensor from a list of numpy.ndarrays is extremely slow. Please consider converting the list to a single numpy.ndarray with numpy.array() before converting to a tensor. (Triggered internally at C:\\actions-runner\\_work\\pytorch\\pytorch\\builder\\windows\\pytorch\\torch\\csrc\\utils\\tensor_new.cpp:233.)\n",
      "  X_torch = torch.tensor([self.X], dtype=torch.float)\n"
     ]
    },
    {
     "name": "stdout",
     "output_type": "stream",
     "text": [
      "MK-blanket of target node: [402, 400, 401]\n",
      "Generate the PGM\n",
      "PGM Nodes:  ['402', '401', '400']\n",
      "PGM Edges:  [('402', '401'), ('402', '400'), ('401', '400')]\n",
      "The variables in the PGM is 'str' while the nodes' names in the dataset is 'int' so we convert them for convenience\n",
      "Compute marginal probability of the target prediction with no observation\n",
      "0.21666666666666667\n",
      "Target's label is:  1\n",
      "Probability that the target's label is 1 given ['402'] is 0.3122065727699531\n",
      "Probability that the target's label is 1 given ['402', '401'] is 0.44554455445544555\n",
      "Draw pgm explaination using networkx\n"
     ]
    },
    {
     "data": {
      "image/png": "[encoded data removed]",
      "text/plain": [
       "<Figure size 640x480 with 1 Axes>"
      ]
     },
     "metadata": {},
     "output_type": "display_data"
    },
    {
     "name": "stdout",
     "output_type": "stream",
     "text": [
      "PGM explaination of node  $C$\n"
     ]
    },
    {
     "name": "stderr",
     "output_type": "stream",
     "text": [
      "d:\\D_Drive\\Github\\Thesis\\PGMExplainer_graph_properties\\.venv\\lib\\site-packages\\ipykernel_launcher.py:45: UserWarning: Matplotlib is currently using module://matplotlib_inline.backend_inline, which is a non-GUI backend, so cannot show the figure.\n"
     ]
    },
    {
     "data": {
      "image/png": "[encoded data removed]",
      "text/plain": [
       "<Figure size 400x400 with 1 Axes>"
      ]
     },
     "metadata": {},
     "output_type": "display_data"
    }
   ],
   "source": [
    "target = nodes_to_explain[0]\n",
    "\n",
    "print(f\"--------------------------- Node {target} ---------------------------\")\n",
    "# Explaining the target node\n",
    "subnodes, data, stats = explainer.explain(target, num_samples = 900, top_node = 3, pred_threshold = 0.2)\n",
    "# Markov Blanket of target node\n",
    "print(\"MK-blanket of target node:\", subnodes)\n",
    "\n",
    "# Generating the Probabilistic Graph\n",
    "print(\"Generate the PGM\")\n",
    "pgm_explanation = explainer.pgm_generate(target, data, stats, subnodes)\n",
    "print(\"PGM Nodes: \", pgm_explanation.nodes())\n",
    "print(\"PGM Edges: \", pgm_explanation.edges())\n",
    "\n",
    "# Conversion of target names for preventing type mismatch\n",
    "print(\"The variables in the PGM is 'str' while the nodes' names in the dataset is 'int' so we convert them for convenience\")\n",
    "target_name = str(target)\n",
    "explaining_nodes = [node for node in pgm_explanation.nodes() if node != target_name]\n",
    "\n",
    "# Computing marginal probability of target prediction with no observation\n",
    "print(\"Compute marginal probability of the target prediction with no observation\")\n",
    "marginal_prob = explainer.pgm_conditional_prob(target_name, pgm_explanation, [])\n",
    "print(marginal_prob)\n",
    "\n",
    "# Computing other probabilities\n",
    "target_label = np.argmax(pred[0,target])\n",
    "print(\"Target's label is: \", target_label)\n",
    "for num_of_evidence in range(len(explaining_nodes)):\n",
    "    cond_prob = explainer.pgm_conditional_prob(target_name, pgm_explanation, explaining_nodes[0:num_of_evidence+1])\n",
    "    print(\"Probability that the target's label is {} given {} is {}\".format(target_label,\n",
    "                                                                            explaining_nodes[0:num_of_evidence+1],\n",
    "                                                                        cond_prob))\n",
    "\n",
    "\n",
    "# Drawing pgm explanation\n",
    "pgm_draw_nx(pgm_explanation)\n",
    "PGM_construct(pgm_explanation, target_name)"
   ]
  },
  {
   "cell_type": "code",
   "execution_count": null,
   "metadata": {},
   "outputs": [],
   "source": []
  },
  {
   "cell_type": "code",
   "execution_count": 9,
   "metadata": {},
   "outputs": [],
   "source": [
    "# # Explaining each target node\n",
    "# for target in nodes_to_explain:\n",
    "#     print(f\"--------------------------- Node {target} ---------------------------\")\n",
    "#     # Explaining the target node\n",
    "#     subnodes, data, stats = explainer.explain(target, num_samples = 900, top_node = 3, pred_threshold = 0.2)\n",
    "#     # Markov Blanket of target node\n",
    "#     print(\"MK-blanket of target node:\", subnodes)\n",
    "    \n",
    "#     # Generating the Probabilistic Graph\n",
    "#     print(\"Generate the PGM\")\n",
    "#     pgm_explanation = explainer.pgm_generate(target, data, stats, subnodes)\n",
    "#     print(\"PGM Nodes: \", pgm_explanation.nodes())\n",
    "#     print(\"PGM Edges: \", pgm_explanation.edges())\n",
    "\n",
    "#     # Conversion of target names for preventing type mismatch\n",
    "#     print(\"The variables in the PGM is 'str' while the nodes' names in the dataset is 'int' so we convert them for convenience\")\n",
    "#     target_name = str(target)\n",
    "#     explaining_nodes = [node for node in pgm_explanation.nodes() if node != target_name]\n",
    "\n",
    "#     # Computing marginal probability of target prediction with no observation\n",
    "#     print(\"Compute marginal probability of the target prediction with no observation\")\n",
    "#     marginal_prob = explainer.pgm_conditional_prob(target_name, pgm_explanation, [])\n",
    "#     print(marginal_prob)\n",
    "\n",
    "#     # Computing other probabilities\n",
    "#     target_label = np.argmax(pred[0,target])\n",
    "#     print(\"Target's label is: \", target_label)\n",
    "#     for num_of_evidence in range(len(explaining_nodes)):\n",
    "#         cond_prob = explainer.pgm_conditional_prob(target_name, pgm_explanation, explaining_nodes[0:num_of_evidence+1])\n",
    "#         print(\"Probability that the target's label is {} given {} is {}\".format(target_label,\n",
    "#                                                                                 explaining_nodes[0:num_of_evidence+1],\n",
    "#                                                                             cond_prob))\n",
    "    \n",
    "\n",
    "#     # Drawing pgm explanation\n",
    "#     pgm_draw_nx(pgm_explanation)\n",
    "#     PGM_construct(pgm_explanation, target_name)"
   ]
  },
  {
   "cell_type": "code",
   "execution_count": 42,
   "metadata": {},
   "outputs": [
    {
     "data": {
      "text/plain": [
       "0.055960276099887026"
      ]
     },
     "execution_count": 42,
     "metadata": {},
     "output_type": "execute_result"
    }
   ],
   "source": [
    "\n",
    "\n",
    "# nodes_to_consider = list(stats.keys())\n",
    "\n",
    "# # node betweeness centrality scores calculated\n",
    "# G = nx.from_numpy_array(explainer.A)\n",
    "# # bc = nx.betweenness_centrality(G,normalized=True)\n",
    "# bc = nx.betweenness_centrality(G)\n",
    "\n",
    "# # Get the two vectors we have to compare for coherence calculation\n",
    "# # We are fixing the values as 0 for the nodes not in \"nodes_to_consider\"\n",
    "# A1 = []\n",
    "# B1 = []\n",
    "# for i in range(len(bc)):\n",
    "#     if i in nodes_to_consider:\n",
    "#         A1.append(bc.get(i))\n",
    "#         B1.append(1 - (stats.get(i)))\n",
    "#     else:\n",
    "#         A1.append(0)\n",
    "#         B1.append(0)\n",
    "\n",
    "# if(A1 != B1):\n",
    "#     coherence = 1/(np.linalg.norm(np.array(A1) - np.array(B1),2))**2\n",
    "# else:\n",
    "#     coherence = 1\n",
    "\n",
    "# coherence"
   ]
  },
  {
   "cell_type": "code",
   "execution_count": 43,
   "metadata": {},
   "outputs": [],
   "source": [
    "# Functions to analyze the graph properties\n",
    "def centrality(adj, stats,p_threshold=0.05):\n",
    "    G = nx.from_numpy_array(adj)\n",
    "\n",
    "    nbors = list(stats.keys())\n",
    "    nodes_to_consider = []\n",
    "    for v in nbors:\n",
    "        if stats.get(v) < p_threshold:\n",
    "            nodes_to_consider.append(v)\n",
    "\n",
    "    # Vertex induced subgraph that acts as the explanation\n",
    "    exp_subgraph = nx.induced_subgraph(G, nodes_to_consider)\n",
    "    bc = nx.betweenness_centrality(exp_subgraph)\n",
    "\n",
    "    # Get the two vectors we have to compare for coherence calculation\n",
    "    # We are fixing the values as 0 for the nodes not in \"nodes_to_consider\"\n",
    "    A1 = []\n",
    "    B1 = []\n",
    "    for i in range(adj.shape[0]):\n",
    "        if i in nodes_to_consider:\n",
    "            A1.append(bc.get(i))\n",
    "            B1.append(1 - (stats.get(i)))\n",
    "        else:\n",
    "            A1.append(0)\n",
    "            B1.append(0)\n",
    "\n",
    "    # Calculating coherence\n",
    "    if(A1 != B1):\n",
    "        return 1/(np.linalg.norm(np.array(A1) - np.array(B1),2))**2\n",
    "    else:\n",
    "        return 1\n",
    "\n",
    "def graph_prop(adj):\n",
    "    # Graph\n",
    "    G = nx.from_numpy_array(adj)\n",
    "\n",
    "    v = G.number_of_nodes()\n",
    "    e = G.number_of_edges()\n",
    "    avg_degree = float('%.3f'%(2*e/v))\n",
    "    diameter = nx.diameter(G)\n",
    "    sparsity = float('%.3f'%(2*e/(v*(v-1))))\n",
    "\n",
    "    return [v,e,avg_degree,diameter,sparsity]"
   ]
  },
  {
   "cell_type": "code",
   "execution_count": null,
   "metadata": {},
   "outputs": [],
   "source": [
    "# Check the node mask obtained\n",
    "# \"stats\" has the n-hop neighbors of the target node and the corresponding p-values\n",
    "# The dependent neighbors are chosen based on comparing the p-value to a certain threshold\n",
    "# For this reason we use the p-values as an indicator of importance of the node\n",
    "# We define node_importance_by_exp = (1-p)\n",
    "\n",
    "graph_data = []\n",
    "\n",
    "# Explaining each target node\n",
    "for target in nodes_to_explain:\n",
    "    # Explaining the target node\n",
    "    p_threshold = 0.05  # Default threshold for p-value according to statistics\n",
    "\n",
    "    # We set top_node as None since we want to check how compact the explanations are without restricting its size\n",
    "    _, _, stats = explainer.explain(target, num_samples = 900, p_threshold=p_threshold, pred_threshold = 0.2)\n",
    "    coherence_int = float('%.3f'%(centrality(explainer.A,stats,p_threshold)))\n",
    "\n"
   ]
  }
 ],
 "metadata": {
  "kernelspec": {
   "display_name": "Python 3",
   "language": "python",
   "name": "python3"
  },
  "language_info": {
   "codemirror_mode": {
    "name": "ipython",
    "version": 3
   },
   "file_extension": ".py",
   "mimetype": "text/x-python",
   "name": "python",
   "nbconvert_exporter": "python",
   "pygments_lexer": "ipython3",
   "version": "3.7.9"
  },
  "orig_nbformat": 4
 },
 "nbformat": 4,
 "nbformat_minor": 2
}
